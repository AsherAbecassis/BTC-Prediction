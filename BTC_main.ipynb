{
 "cells": [
  {
   "cell_type": "code",
   "execution_count": 1,
   "metadata": {},
   "outputs": [],
   "source": [
    "\n",
    "\n",
    "import os                       \n",
    "import pandas as pd\n",
    "import numpy as np\n",
    "import matplotlib as mpl\n",
    "import matplotlib.pyplot as plt\n",
    "import seaborn as sns\n",
    "from collections import Counter\n",
    "import sklearn\n",
    "from sklearn import linear_model, metrics, preprocessing\n",
    "from sklearn.preprocessing import StandardScaler, MinMaxScaler\n",
    "from sklearn.linear_model import LogisticRegression, LinearRegression\n",
    "from sklearn.metrics import r2_score, f1_score\n",
    "from sklearn.model_selection import train_test_split\n",
    "%matplotlib inline"
   ]
  },
  {
   "cell_type": "code",
   "execution_count": 2,
   "metadata": {},
   "outputs": [],
   "source": [
    "def getDataFrame(file_name):\n",
    "    df=pd.read_csv(file_name)\n",
    "    return df"
   ]
  },
  {
   "cell_type": "code",
   "execution_count": 3,
   "metadata": {},
   "outputs": [],
   "source": [
    "file_name=\"archive/coin_Bitcoin.csv\"\n",
    "df=getDataFrame(file_name)\n",
    "\n"
   ]
  },
  {
   "cell_type": "code",
   "execution_count": 4,
   "metadata": {},
   "outputs": [],
   "source": [
    "df['Date'] =  pd.to_datetime(df['Date'], format='%Y-%m-%d %H:%M:%S')\n",
    "df.set_index('Date',inplace=True)\n",
    "\n",
    "#2013-04-29 23:59:59"
   ]
  },
  {
   "cell_type": "code",
   "execution_count": 5,
   "metadata": {},
   "outputs": [
    {
     "data": {
      "text/html": [
       "<div>\n",
       "<style scoped>\n",
       "    .dataframe tbody tr th:only-of-type {\n",
       "        vertical-align: middle;\n",
       "    }\n",
       "\n",
       "    .dataframe tbody tr th {\n",
       "        vertical-align: top;\n",
       "    }\n",
       "\n",
       "    .dataframe thead th {\n",
       "        text-align: right;\n",
       "    }\n",
       "</style>\n",
       "<table border=\"1\" class=\"dataframe\">\n",
       "  <thead>\n",
       "    <tr style=\"text-align: right;\">\n",
       "      <th></th>\n",
       "      <th>SNo</th>\n",
       "      <th>High</th>\n",
       "      <th>Low</th>\n",
       "      <th>Open</th>\n",
       "      <th>Close</th>\n",
       "      <th>Volume</th>\n",
       "      <th>Marketcap</th>\n",
       "    </tr>\n",
       "    <tr>\n",
       "      <th>Date</th>\n",
       "      <th></th>\n",
       "      <th></th>\n",
       "      <th></th>\n",
       "      <th></th>\n",
       "      <th></th>\n",
       "      <th></th>\n",
       "      <th></th>\n",
       "    </tr>\n",
       "  </thead>\n",
       "  <tbody>\n",
       "    <tr>\n",
       "      <th>2013-04-29 23:59:59</th>\n",
       "      <td>1</td>\n",
       "      <td>147.488007</td>\n",
       "      <td>134.000000</td>\n",
       "      <td>134.444000</td>\n",
       "      <td>144.539993</td>\n",
       "      <td>0.000000e+00</td>\n",
       "      <td>1.603769e+09</td>\n",
       "    </tr>\n",
       "    <tr>\n",
       "      <th>2013-04-30 23:59:59</th>\n",
       "      <td>2</td>\n",
       "      <td>146.929993</td>\n",
       "      <td>134.050003</td>\n",
       "      <td>144.000000</td>\n",
       "      <td>139.000000</td>\n",
       "      <td>0.000000e+00</td>\n",
       "      <td>1.542813e+09</td>\n",
       "    </tr>\n",
       "    <tr>\n",
       "      <th>2013-05-01 23:59:59</th>\n",
       "      <td>3</td>\n",
       "      <td>139.889999</td>\n",
       "      <td>107.720001</td>\n",
       "      <td>139.000000</td>\n",
       "      <td>116.989998</td>\n",
       "      <td>0.000000e+00</td>\n",
       "      <td>1.298955e+09</td>\n",
       "    </tr>\n",
       "    <tr>\n",
       "      <th>2013-05-02 23:59:59</th>\n",
       "      <td>4</td>\n",
       "      <td>125.599998</td>\n",
       "      <td>92.281898</td>\n",
       "      <td>116.379997</td>\n",
       "      <td>105.209999</td>\n",
       "      <td>0.000000e+00</td>\n",
       "      <td>1.168517e+09</td>\n",
       "    </tr>\n",
       "    <tr>\n",
       "      <th>2013-05-03 23:59:59</th>\n",
       "      <td>5</td>\n",
       "      <td>108.127998</td>\n",
       "      <td>79.099998</td>\n",
       "      <td>106.250000</td>\n",
       "      <td>97.750000</td>\n",
       "      <td>0.000000e+00</td>\n",
       "      <td>1.085995e+09</td>\n",
       "    </tr>\n",
       "    <tr>\n",
       "      <th>...</th>\n",
       "      <td>...</td>\n",
       "      <td>...</td>\n",
       "      <td>...</td>\n",
       "      <td>...</td>\n",
       "      <td>...</td>\n",
       "      <td>...</td>\n",
       "      <td>...</td>\n",
       "    </tr>\n",
       "    <tr>\n",
       "      <th>2021-02-23 23:59:59</th>\n",
       "      <td>2858</td>\n",
       "      <td>54204.929756</td>\n",
       "      <td>45290.590268</td>\n",
       "      <td>54204.929756</td>\n",
       "      <td>48824.426869</td>\n",
       "      <td>1.061025e+11</td>\n",
       "      <td>9.099259e+11</td>\n",
       "    </tr>\n",
       "    <tr>\n",
       "      <th>2021-02-24 23:59:59</th>\n",
       "      <td>2859</td>\n",
       "      <td>51290.136695</td>\n",
       "      <td>47213.498162</td>\n",
       "      <td>48835.087661</td>\n",
       "      <td>49705.333316</td>\n",
       "      <td>6.369552e+10</td>\n",
       "      <td>9.263931e+11</td>\n",
       "    </tr>\n",
       "    <tr>\n",
       "      <th>2021-02-25 23:59:59</th>\n",
       "      <td>2860</td>\n",
       "      <td>51948.966982</td>\n",
       "      <td>47093.853019</td>\n",
       "      <td>49709.082425</td>\n",
       "      <td>47093.853019</td>\n",
       "      <td>5.450657e+10</td>\n",
       "      <td>8.777661e+11</td>\n",
       "    </tr>\n",
       "    <tr>\n",
       "      <th>2021-02-26 23:59:59</th>\n",
       "      <td>2861</td>\n",
       "      <td>48370.785260</td>\n",
       "      <td>44454.842114</td>\n",
       "      <td>47180.464054</td>\n",
       "      <td>46339.760083</td>\n",
       "      <td>3.509679e+11</td>\n",
       "      <td>8.637523e+11</td>\n",
       "    </tr>\n",
       "    <tr>\n",
       "      <th>2021-02-27 23:59:59</th>\n",
       "      <td>2862</td>\n",
       "      <td>48253.270101</td>\n",
       "      <td>45269.025766</td>\n",
       "      <td>46344.772237</td>\n",
       "      <td>46188.451275</td>\n",
       "      <td>4.591095e+10</td>\n",
       "      <td>8.609781e+11</td>\n",
       "    </tr>\n",
       "  </tbody>\n",
       "</table>\n",
       "<p>2862 rows × 7 columns</p>\n",
       "</div>"
      ],
      "text/plain": [
       "                      SNo          High           Low          Open  \\\n",
       "Date                                                                  \n",
       "2013-04-29 23:59:59     1    147.488007    134.000000    134.444000   \n",
       "2013-04-30 23:59:59     2    146.929993    134.050003    144.000000   \n",
       "2013-05-01 23:59:59     3    139.889999    107.720001    139.000000   \n",
       "2013-05-02 23:59:59     4    125.599998     92.281898    116.379997   \n",
       "2013-05-03 23:59:59     5    108.127998     79.099998    106.250000   \n",
       "...                   ...           ...           ...           ...   \n",
       "2021-02-23 23:59:59  2858  54204.929756  45290.590268  54204.929756   \n",
       "2021-02-24 23:59:59  2859  51290.136695  47213.498162  48835.087661   \n",
       "2021-02-25 23:59:59  2860  51948.966982  47093.853019  49709.082425   \n",
       "2021-02-26 23:59:59  2861  48370.785260  44454.842114  47180.464054   \n",
       "2021-02-27 23:59:59  2862  48253.270101  45269.025766  46344.772237   \n",
       "\n",
       "                            Close        Volume     Marketcap  \n",
       "Date                                                           \n",
       "2013-04-29 23:59:59    144.539993  0.000000e+00  1.603769e+09  \n",
       "2013-04-30 23:59:59    139.000000  0.000000e+00  1.542813e+09  \n",
       "2013-05-01 23:59:59    116.989998  0.000000e+00  1.298955e+09  \n",
       "2013-05-02 23:59:59    105.209999  0.000000e+00  1.168517e+09  \n",
       "2013-05-03 23:59:59     97.750000  0.000000e+00  1.085995e+09  \n",
       "...                           ...           ...           ...  \n",
       "2021-02-23 23:59:59  48824.426869  1.061025e+11  9.099259e+11  \n",
       "2021-02-24 23:59:59  49705.333316  6.369552e+10  9.263931e+11  \n",
       "2021-02-25 23:59:59  47093.853019  5.450657e+10  8.777661e+11  \n",
       "2021-02-26 23:59:59  46339.760083  3.509679e+11  8.637523e+11  \n",
       "2021-02-27 23:59:59  46188.451275  4.591095e+10  8.609781e+11  \n",
       "\n",
       "[2862 rows x 7 columns]"
      ]
     },
     "execution_count": 5,
     "metadata": {},
     "output_type": "execute_result"
    }
   ],
   "source": [
    "df = df._get_numeric_data()\n",
    "df"
   ]
  },
  {
   "cell_type": "code",
   "execution_count": 6,
   "metadata": {},
   "outputs": [
    {
     "data": {
      "image/png": "[encoded data removed]",
      "text/plain": [
       "<Figure size 1152x720 with 1 Axes>"
      ]
     },
     "metadata": {
      "needs_background": "light"
     },
     "output_type": "display_data"
    }
   ],
   "source": [
    "plt.figure(figsize=(16,10))\n",
    "plt.plot(df['Close'])\n",
    "plt.xlabel('Date',fontsize=18)\n",
    "plt.ylabel('Close',fontsize=18)\n",
    "plt.show()"
   ]
  },
  {
   "cell_type": "markdown",
   "metadata": {},
   "source": [
    "# Dealing with outliers"
   ]
  },
  {
   "cell_type": "code",
   "execution_count": 7,
   "metadata": {},
   "outputs": [
    {
     "name": "stdout",
     "output_type": "stream",
     "text": [
      "(2862, 7)\n",
      "SNo          0\n",
      "High         0\n",
      "Low          0\n",
      "Open         0\n",
      "Close        0\n",
      "Volume       0\n",
      "Marketcap    0\n",
      "dtype: int64\n"
     ]
    },
    {
     "data": {
      "text/html": [
       "<div>\n",
       "<style scoped>\n",
       "    .dataframe tbody tr th:only-of-type {\n",
       "        vertical-align: middle;\n",
       "    }\n",
       "\n",
       "    .dataframe tbody tr th {\n",
       "        vertical-align: top;\n",
       "    }\n",
       "\n",
       "    .dataframe thead th {\n",
       "        text-align: right;\n",
       "    }\n",
       "</style>\n",
       "<table border=\"1\" class=\"dataframe\">\n",
       "  <thead>\n",
       "    <tr style=\"text-align: right;\">\n",
       "      <th></th>\n",
       "      <th>SNo</th>\n",
       "      <th>High</th>\n",
       "      <th>Low</th>\n",
       "      <th>Open</th>\n",
       "      <th>Close</th>\n",
       "      <th>Volume</th>\n",
       "      <th>Marketcap</th>\n",
       "    </tr>\n",
       "  </thead>\n",
       "  <tbody>\n",
       "    <tr>\n",
       "      <th>count</th>\n",
       "      <td>2862.00000</td>\n",
       "      <td>2862.000000</td>\n",
       "      <td>2862.000000</td>\n",
       "      <td>2862.000000</td>\n",
       "      <td>2862.000000</td>\n",
       "      <td>2.862000e+03</td>\n",
       "      <td>2.862000e+03</td>\n",
       "    </tr>\n",
       "    <tr>\n",
       "      <th>mean</th>\n",
       "      <td>1431.50000</td>\n",
       "      <td>4974.040239</td>\n",
       "      <td>4695.103027</td>\n",
       "      <td>4836.306834</td>\n",
       "      <td>4852.092547</td>\n",
       "      <td>8.978475e+09</td>\n",
       "      <td>8.591622e+10</td>\n",
       "    </tr>\n",
       "    <tr>\n",
       "      <th>std</th>\n",
       "      <td>826.33256</td>\n",
       "      <td>7188.836678</td>\n",
       "      <td>6667.197596</td>\n",
       "      <td>6933.573446</td>\n",
       "      <td>6975.105869</td>\n",
       "      <td>1.658135e+10</td>\n",
       "      <td>1.287414e+11</td>\n",
       "    </tr>\n",
       "    <tr>\n",
       "      <th>min</th>\n",
       "      <td>1.00000</td>\n",
       "      <td>74.561096</td>\n",
       "      <td>65.526001</td>\n",
       "      <td>68.504997</td>\n",
       "      <td>68.431000</td>\n",
       "      <td>0.000000e+00</td>\n",
       "      <td>7.784112e+08</td>\n",
       "    </tr>\n",
       "    <tr>\n",
       "      <th>25%</th>\n",
       "      <td>716.25000</td>\n",
       "      <td>426.047752</td>\n",
       "      <td>415.675751</td>\n",
       "      <td>421.204506</td>\n",
       "      <td>420.989243</td>\n",
       "      <td>2.786250e+07</td>\n",
       "      <td>5.988997e+09</td>\n",
       "    </tr>\n",
       "    <tr>\n",
       "      <th>50%</th>\n",
       "      <td>1431.50000</td>\n",
       "      <td>1197.334961</td>\n",
       "      <td>1164.174988</td>\n",
       "      <td>1180.100037</td>\n",
       "      <td>1182.809998</td>\n",
       "      <td>3.301950e+08</td>\n",
       "      <td>1.924238e+10</td>\n",
       "    </tr>\n",
       "    <tr>\n",
       "      <th>75%</th>\n",
       "      <td>2146.75000</td>\n",
       "      <td>8138.046589</td>\n",
       "      <td>7703.357500</td>\n",
       "      <td>7924.612338</td>\n",
       "      <td>7926.696939</td>\n",
       "      <td>1.296743e+10</td>\n",
       "      <td>1.387658e+11</td>\n",
       "    </tr>\n",
       "    <tr>\n",
       "      <th>max</th>\n",
       "      <td>2862.00000</td>\n",
       "      <td>58330.572142</td>\n",
       "      <td>55672.609513</td>\n",
       "      <td>57532.738864</td>\n",
       "      <td>57539.943668</td>\n",
       "      <td>3.509679e+11</td>\n",
       "      <td>1.072263e+12</td>\n",
       "    </tr>\n",
       "  </tbody>\n",
       "</table>\n",
       "</div>"
      ],
      "text/plain": [
       "              SNo          High           Low          Open         Close  \\\n",
       "count  2862.00000   2862.000000   2862.000000   2862.000000   2862.000000   \n",
       "mean   1431.50000   4974.040239   4695.103027   4836.306834   4852.092547   \n",
       "std     826.33256   7188.836678   6667.197596   6933.573446   6975.105869   \n",
       "min       1.00000     74.561096     65.526001     68.504997     68.431000   \n",
       "25%     716.25000    426.047752    415.675751    421.204506    420.989243   \n",
       "50%    1431.50000   1197.334961   1164.174988   1180.100037   1182.809998   \n",
       "75%    2146.75000   8138.046589   7703.357500   7924.612338   7926.696939   \n",
       "max    2862.00000  58330.572142  55672.609513  57532.738864  57539.943668   \n",
       "\n",
       "             Volume     Marketcap  \n",
       "count  2.862000e+03  2.862000e+03  \n",
       "mean   8.978475e+09  8.591622e+10  \n",
       "std    1.658135e+10  1.287414e+11  \n",
       "min    0.000000e+00  7.784112e+08  \n",
       "25%    2.786250e+07  5.988997e+09  \n",
       "50%    3.301950e+08  1.924238e+10  \n",
       "75%    1.296743e+10  1.387658e+11  \n",
       "max    3.509679e+11  1.072263e+12  "
      ]
     },
     "execution_count": 7,
     "metadata": {},
     "output_type": "execute_result"
    }
   ],
   "source": [
    "print(df.shape)\n",
    "print(df.isnull().sum())\n",
    "df.describe()\n"
   ]
  },
  {
   "cell_type": "code",
   "execution_count": 8,
   "metadata": {},
   "outputs": [
    {
     "data": {
      "text/plain": [
       "<seaborn.axisgrid.FacetGrid at 0x7f989e7774a8>"
      ]
     },
     "execution_count": 8,
     "metadata": {},
     "output_type": "execute_result"
    },
    {
     "data": {
      "image/png": "[encoded data removed]",
      "text/plain": [
       "<Figure size 360x360 with 1 Axes>"
      ]
     },
     "metadata": {
      "needs_background": "light"
     },
     "output_type": "display_data"
    }
   ],
   "source": [
    "sns.displot(data=df['Close'],kde=True)"
   ]
  },
  {
   "cell_type": "code",
   "execution_count": 9,
   "metadata": {},
   "outputs": [
    {
     "data": {
      "text/html": [
       "<div>\n",
       "<style scoped>\n",
       "    .dataframe tbody tr th:only-of-type {\n",
       "        vertical-align: middle;\n",
       "    }\n",
       "\n",
       "    .dataframe tbody tr th {\n",
       "        vertical-align: top;\n",
       "    }\n",
       "\n",
       "    .dataframe thead th {\n",
       "        text-align: right;\n",
       "    }\n",
       "</style>\n",
       "<table border=\"1\" class=\"dataframe\">\n",
       "  <thead>\n",
       "    <tr style=\"text-align: right;\">\n",
       "      <th></th>\n",
       "      <th>SNo</th>\n",
       "      <th>High</th>\n",
       "      <th>Low</th>\n",
       "      <th>Open</th>\n",
       "      <th>Close</th>\n",
       "      <th>Volume</th>\n",
       "      <th>Marketcap</th>\n",
       "    </tr>\n",
       "  </thead>\n",
       "  <tbody>\n",
       "    <tr>\n",
       "      <th>count</th>\n",
       "      <td>2575.000000</td>\n",
       "      <td>2575.000000</td>\n",
       "      <td>2575.000000</td>\n",
       "      <td>2575.000000</td>\n",
       "      <td>2575.000000</td>\n",
       "      <td>2.575000e+03</td>\n",
       "      <td>2.575000e+03</td>\n",
       "    </tr>\n",
       "    <tr>\n",
       "      <th>mean</th>\n",
       "      <td>1555.597282</td>\n",
       "      <td>5510.391933</td>\n",
       "      <td>5201.327810</td>\n",
       "      <td>5357.762530</td>\n",
       "      <td>5375.348958</td>\n",
       "      <td>9.978226e+09</td>\n",
       "      <td>9.526709e+10</td>\n",
       "    </tr>\n",
       "    <tr>\n",
       "      <th>std</th>\n",
       "      <td>770.709807</td>\n",
       "      <td>7387.247539</td>\n",
       "      <td>6844.781676</td>\n",
       "      <td>7121.920052</td>\n",
       "      <td>7165.546640</td>\n",
       "      <td>1.719378e+10</td>\n",
       "      <td>1.324765e+11</td>\n",
       "    </tr>\n",
       "    <tr>\n",
       "      <th>min</th>\n",
       "      <td>191.000000</td>\n",
       "      <td>235.268997</td>\n",
       "      <td>221.261993</td>\n",
       "      <td>221.968994</td>\n",
       "      <td>235.143997</td>\n",
       "      <td>0.000000e+00</td>\n",
       "      <td>2.931599e+09</td>\n",
       "    </tr>\n",
       "    <tr>\n",
       "      <th>25%</th>\n",
       "      <td>931.500000</td>\n",
       "      <td>575.960510</td>\n",
       "      <td>532.872498</td>\n",
       "      <td>564.161987</td>\n",
       "      <td>565.324982</td>\n",
       "      <td>4.788520e+07</td>\n",
       "      <td>7.294466e+09</td>\n",
       "    </tr>\n",
       "    <tr>\n",
       "      <th>50%</th>\n",
       "      <td>1575.000000</td>\n",
       "      <td>3495.174888</td>\n",
       "      <td>3372.120117</td>\n",
       "      <td>3421.910403</td>\n",
       "      <td>3448.117022</td>\n",
       "      <td>1.663280e+09</td>\n",
       "      <td>5.982116e+10</td>\n",
       "    </tr>\n",
       "    <tr>\n",
       "      <th>75%</th>\n",
       "      <td>2218.500000</td>\n",
       "      <td>8515.176160</td>\n",
       "      <td>8141.305176</td>\n",
       "      <td>8320.559310</td>\n",
       "      <td>8320.238988</td>\n",
       "      <td>1.532208e+10</td>\n",
       "      <td>1.475876e+11</td>\n",
       "    </tr>\n",
       "    <tr>\n",
       "      <th>max</th>\n",
       "      <td>2862.000000</td>\n",
       "      <td>58330.572142</td>\n",
       "      <td>55672.609513</td>\n",
       "      <td>57532.738864</td>\n",
       "      <td>57539.943668</td>\n",
       "      <td>3.509679e+11</td>\n",
       "      <td>1.072263e+12</td>\n",
       "    </tr>\n",
       "  </tbody>\n",
       "</table>\n",
       "</div>"
      ],
      "text/plain": [
       "               SNo          High           Low          Open         Close  \\\n",
       "count  2575.000000   2575.000000   2575.000000   2575.000000   2575.000000   \n",
       "mean   1555.597282   5510.391933   5201.327810   5357.762530   5375.348958   \n",
       "std     770.709807   7387.247539   6844.781676   7121.920052   7165.546640   \n",
       "min     191.000000    235.268997    221.261993    221.968994    235.143997   \n",
       "25%     931.500000    575.960510    532.872498    564.161987    565.324982   \n",
       "50%    1575.000000   3495.174888   3372.120117   3421.910403   3448.117022   \n",
       "75%    2218.500000   8515.176160   8141.305176   8320.559310   8320.238988   \n",
       "max    2862.000000  58330.572142  55672.609513  57532.738864  57539.943668   \n",
       "\n",
       "             Volume     Marketcap  \n",
       "count  2.575000e+03  2.575000e+03  \n",
       "mean   9.978226e+09  9.526709e+10  \n",
       "std    1.719378e+10  1.324765e+11  \n",
       "min    0.000000e+00  2.931599e+09  \n",
       "25%    4.788520e+07  7.294466e+09  \n",
       "50%    1.663280e+09  5.982116e+10  \n",
       "75%    1.532208e+10  1.475876e+11  \n",
       "max    3.509679e+11  1.072263e+12  "
      ]
     },
     "execution_count": 9,
     "metadata": {},
     "output_type": "execute_result"
    }
   ],
   "source": [
    "q = df['Close'].quantile(0.99)\n",
    "q1 = df['Close'].quantile(0.1)\n",
    "data_1=df[df['Close'] < q]\n",
    "data_1=df[df['Close'] > q1]\n",
    "data_1.describe()"
   ]
  },
  {
   "cell_type": "code",
   "execution_count": 10,
   "metadata": {},
   "outputs": [
    {
     "data": {
      "text/plain": [
       "<seaborn.axisgrid.FacetGrid at 0x7f989ecd0588>"
      ]
     },
     "execution_count": 10,
     "metadata": {},
     "output_type": "execute_result"
    },
    {
     "data": {
      "image/png": "[encoded data removed]",
      "text/plain": [
       "<Figure size 360x360 with 1 Axes>"
      ]
     },
     "metadata": {
      "needs_background": "light"
     },
     "output_type": "display_data"
    }
   ],
   "source": [
    "sns.displot(data=data_1['Close'],kde=True)"
   ]
  },
  {
   "cell_type": "code",
   "execution_count": 11,
   "metadata": {},
   "outputs": [
    {
     "data": {
      "image/png": "[encoded data removed]",
      "text/plain": [
       "<Figure size 576x576 with 1 Axes>"
      ]
     },
     "metadata": {
      "needs_background": "light"
     },
     "output_type": "display_data"
    }
   ],
   "source": [
    "fig = plt.figure(figsize=(8,8))\n",
    "ax = plt.axes()\n",
    "ax.scatter(df.index , df.Close)\n",
    "plt.xlabel('Date',fontsize=18)\n",
    "plt.ylabel('Close',fontsize=18)\n",
    "plt.show()\n"
   ]
  },
  {
   "cell_type": "markdown",
   "metadata": {},
   "source": [
    "Natural logarithm log is the inverse of the exp(), so that log(exp(x)) = x. The natural logarithm is log in base e."
   ]
  },
  {
   "cell_type": "code",
   "execution_count": 12,
   "metadata": {},
   "outputs": [],
   "source": [
    "log_price=np.log(df['Close'])\n",
    "df['Log_Price']=log_price\n"
   ]
  },
  {
   "cell_type": "code",
   "execution_count": 13,
   "metadata": {},
   "outputs": [
    {
     "data": {
      "image/png": "[encoded data removed]",
      "text/plain": [
       "<Figure size 576x576 with 1 Axes>"
      ]
     },
     "metadata": {
      "needs_background": "light"
     },
     "output_type": "display_data"
    }
   ],
   "source": [
    "fig = plt.figure(figsize=(8,8))\n",
    "ax = plt.axes()\n",
    "ax.scatter(df.index , df.Log_Price)\n",
    "plt.xlabel('Date',fontsize=18)\n",
    "plt.ylabel('Log_Price',fontsize=18)\n",
    "plt.show()"
   ]
  },
  {
   "cell_type": "code",
   "execution_count": 14,
   "metadata": {},
   "outputs": [
    {
     "data": {
      "text/html": [
       "<div>\n",
       "<style scoped>\n",
       "    .dataframe tbody tr th:only-of-type {\n",
       "        vertical-align: middle;\n",
       "    }\n",
       "\n",
       "    .dataframe tbody tr th {\n",
       "        vertical-align: top;\n",
       "    }\n",
       "\n",
       "    .dataframe thead th {\n",
       "        text-align: right;\n",
       "    }\n",
       "</style>\n",
       "<table border=\"1\" class=\"dataframe\">\n",
       "  <thead>\n",
       "    <tr style=\"text-align: right;\">\n",
       "      <th></th>\n",
       "      <th>SNo</th>\n",
       "      <th>High</th>\n",
       "      <th>Low</th>\n",
       "      <th>Open</th>\n",
       "      <th>Close</th>\n",
       "      <th>Volume</th>\n",
       "      <th>Marketcap</th>\n",
       "      <th>Log_Price</th>\n",
       "    </tr>\n",
       "  </thead>\n",
       "  <tbody>\n",
       "    <tr>\n",
       "      <th>count</th>\n",
       "      <td>2862.00000</td>\n",
       "      <td>2862.000000</td>\n",
       "      <td>2862.000000</td>\n",
       "      <td>2862.000000</td>\n",
       "      <td>2862.000000</td>\n",
       "      <td>2.862000e+03</td>\n",
       "      <td>2.862000e+03</td>\n",
       "      <td>2862.000000</td>\n",
       "    </tr>\n",
       "    <tr>\n",
       "      <th>mean</th>\n",
       "      <td>1431.50000</td>\n",
       "      <td>4974.040239</td>\n",
       "      <td>4695.103027</td>\n",
       "      <td>4836.306834</td>\n",
       "      <td>4852.092547</td>\n",
       "      <td>8.978475e+09</td>\n",
       "      <td>8.591622e+10</td>\n",
       "      <td>7.427908</td>\n",
       "    </tr>\n",
       "    <tr>\n",
       "      <th>std</th>\n",
       "      <td>826.33256</td>\n",
       "      <td>7188.836678</td>\n",
       "      <td>6667.197596</td>\n",
       "      <td>6933.573446</td>\n",
       "      <td>6975.105869</td>\n",
       "      <td>1.658135e+10</td>\n",
       "      <td>1.287414e+11</td>\n",
       "      <td>1.614227</td>\n",
       "    </tr>\n",
       "    <tr>\n",
       "      <th>min</th>\n",
       "      <td>1.00000</td>\n",
       "      <td>74.561096</td>\n",
       "      <td>65.526001</td>\n",
       "      <td>68.504997</td>\n",
       "      <td>68.431000</td>\n",
       "      <td>0.000000e+00</td>\n",
       "      <td>7.784112e+08</td>\n",
       "      <td>4.225826</td>\n",
       "    </tr>\n",
       "    <tr>\n",
       "      <th>25%</th>\n",
       "      <td>716.25000</td>\n",
       "      <td>426.047752</td>\n",
       "      <td>415.675751</td>\n",
       "      <td>421.204506</td>\n",
       "      <td>420.989243</td>\n",
       "      <td>2.786250e+07</td>\n",
       "      <td>5.988997e+09</td>\n",
       "      <td>6.042607</td>\n",
       "    </tr>\n",
       "    <tr>\n",
       "      <th>50%</th>\n",
       "      <td>1431.50000</td>\n",
       "      <td>1197.334961</td>\n",
       "      <td>1164.174988</td>\n",
       "      <td>1180.100037</td>\n",
       "      <td>1182.809998</td>\n",
       "      <td>3.301950e+08</td>\n",
       "      <td>1.924238e+10</td>\n",
       "      <td>7.075648</td>\n",
       "    </tr>\n",
       "    <tr>\n",
       "      <th>75%</th>\n",
       "      <td>2146.75000</td>\n",
       "      <td>8138.046589</td>\n",
       "      <td>7703.357500</td>\n",
       "      <td>7924.612338</td>\n",
       "      <td>7926.696939</td>\n",
       "      <td>1.296743e+10</td>\n",
       "      <td>1.387658e+11</td>\n",
       "      <td>8.977992</td>\n",
       "    </tr>\n",
       "    <tr>\n",
       "      <th>max</th>\n",
       "      <td>2862.00000</td>\n",
       "      <td>58330.572142</td>\n",
       "      <td>55672.609513</td>\n",
       "      <td>57532.738864</td>\n",
       "      <td>57539.943668</td>\n",
       "      <td>3.509679e+11</td>\n",
       "      <td>1.072263e+12</td>\n",
       "      <td>10.960235</td>\n",
       "    </tr>\n",
       "  </tbody>\n",
       "</table>\n",
       "</div>"
      ],
      "text/plain": [
       "              SNo          High           Low          Open         Close  \\\n",
       "count  2862.00000   2862.000000   2862.000000   2862.000000   2862.000000   \n",
       "mean   1431.50000   4974.040239   4695.103027   4836.306834   4852.092547   \n",
       "std     826.33256   7188.836678   6667.197596   6933.573446   6975.105869   \n",
       "min       1.00000     74.561096     65.526001     68.504997     68.431000   \n",
       "25%     716.25000    426.047752    415.675751    421.204506    420.989243   \n",
       "50%    1431.50000   1197.334961   1164.174988   1180.100037   1182.809998   \n",
       "75%    2146.75000   8138.046589   7703.357500   7924.612338   7926.696939   \n",
       "max    2862.00000  58330.572142  55672.609513  57532.738864  57539.943668   \n",
       "\n",
       "             Volume     Marketcap    Log_Price  \n",
       "count  2.862000e+03  2.862000e+03  2862.000000  \n",
       "mean   8.978475e+09  8.591622e+10     7.427908  \n",
       "std    1.658135e+10  1.287414e+11     1.614227  \n",
       "min    0.000000e+00  7.784112e+08     4.225826  \n",
       "25%    2.786250e+07  5.988997e+09     6.042607  \n",
       "50%    3.301950e+08  1.924238e+10     7.075648  \n",
       "75%    1.296743e+10  1.387658e+11     8.977992  \n",
       "max    3.509679e+11  1.072263e+12    10.960235  "
      ]
     },
     "execution_count": 14,
     "metadata": {},
     "output_type": "execute_result"
    }
   ],
   "source": [
    "df.describe()"
   ]
  },
  {
   "cell_type": "markdown",
   "metadata": {},
   "source": [
    "# Rearrange "
   ]
  },
  {
   "cell_type": "code",
   "execution_count": 15,
   "metadata": {},
   "outputs": [
    {
     "data": {
      "text/plain": [
       "array(['SNo', 'High', 'Low', 'Open', 'Close', 'Volume', 'Marketcap',\n",
       "       'Log_Price'], dtype=object)"
      ]
     },
     "execution_count": 15,
     "metadata": {},
     "output_type": "execute_result"
    }
   ],
   "source": [
    "df.columns.values"
   ]
  },
  {
   "cell_type": "code",
   "execution_count": 16,
   "metadata": {},
   "outputs": [
    {
     "data": {
      "text/html": [
       "<div>\n",
       "<style scoped>\n",
       "    .dataframe tbody tr th:only-of-type {\n",
       "        vertical-align: middle;\n",
       "    }\n",
       "\n",
       "    .dataframe tbody tr th {\n",
       "        vertical-align: top;\n",
       "    }\n",
       "\n",
       "    .dataframe thead th {\n",
       "        text-align: right;\n",
       "    }\n",
       "</style>\n",
       "<table border=\"1\" class=\"dataframe\">\n",
       "  <thead>\n",
       "    <tr style=\"text-align: right;\">\n",
       "      <th></th>\n",
       "      <th>Log_Price</th>\n",
       "      <th>Close</th>\n",
       "      <th>High</th>\n",
       "      <th>Low</th>\n",
       "      <th>Open</th>\n",
       "      <th>Volume</th>\n",
       "      <th>Marketcap</th>\n",
       "    </tr>\n",
       "    <tr>\n",
       "      <th>Date</th>\n",
       "      <th></th>\n",
       "      <th></th>\n",
       "      <th></th>\n",
       "      <th></th>\n",
       "      <th></th>\n",
       "      <th></th>\n",
       "      <th></th>\n",
       "    </tr>\n",
       "  </thead>\n",
       "  <tbody>\n",
       "    <tr>\n",
       "      <th>2013-04-29 23:59:59</th>\n",
       "      <td>4.973556</td>\n",
       "      <td>144.539993</td>\n",
       "      <td>147.488007</td>\n",
       "      <td>134.000000</td>\n",
       "      <td>134.444000</td>\n",
       "      <td>0.000000e+00</td>\n",
       "      <td>1.603769e+09</td>\n",
       "    </tr>\n",
       "    <tr>\n",
       "      <th>2013-04-30 23:59:59</th>\n",
       "      <td>4.934474</td>\n",
       "      <td>139.000000</td>\n",
       "      <td>146.929993</td>\n",
       "      <td>134.050003</td>\n",
       "      <td>144.000000</td>\n",
       "      <td>0.000000e+00</td>\n",
       "      <td>1.542813e+09</td>\n",
       "    </tr>\n",
       "    <tr>\n",
       "      <th>2013-05-01 23:59:59</th>\n",
       "      <td>4.762088</td>\n",
       "      <td>116.989998</td>\n",
       "      <td>139.889999</td>\n",
       "      <td>107.720001</td>\n",
       "      <td>139.000000</td>\n",
       "      <td>0.000000e+00</td>\n",
       "      <td>1.298955e+09</td>\n",
       "    </tr>\n",
       "    <tr>\n",
       "      <th>2013-05-02 23:59:59</th>\n",
       "      <td>4.655958</td>\n",
       "      <td>105.209999</td>\n",
       "      <td>125.599998</td>\n",
       "      <td>92.281898</td>\n",
       "      <td>116.379997</td>\n",
       "      <td>0.000000e+00</td>\n",
       "      <td>1.168517e+09</td>\n",
       "    </tr>\n",
       "    <tr>\n",
       "      <th>2013-05-03 23:59:59</th>\n",
       "      <td>4.582413</td>\n",
       "      <td>97.750000</td>\n",
       "      <td>108.127998</td>\n",
       "      <td>79.099998</td>\n",
       "      <td>106.250000</td>\n",
       "      <td>0.000000e+00</td>\n",
       "      <td>1.085995e+09</td>\n",
       "    </tr>\n",
       "    <tr>\n",
       "      <th>...</th>\n",
       "      <td>...</td>\n",
       "      <td>...</td>\n",
       "      <td>...</td>\n",
       "      <td>...</td>\n",
       "      <td>...</td>\n",
       "      <td>...</td>\n",
       "      <td>...</td>\n",
       "    </tr>\n",
       "    <tr>\n",
       "      <th>2021-02-23 23:59:59</th>\n",
       "      <td>10.795986</td>\n",
       "      <td>48824.426869</td>\n",
       "      <td>54204.929756</td>\n",
       "      <td>45290.590268</td>\n",
       "      <td>54204.929756</td>\n",
       "      <td>1.061025e+11</td>\n",
       "      <td>9.099259e+11</td>\n",
       "    </tr>\n",
       "    <tr>\n",
       "      <th>2021-02-24 23:59:59</th>\n",
       "      <td>10.813868</td>\n",
       "      <td>49705.333316</td>\n",
       "      <td>51290.136695</td>\n",
       "      <td>47213.498162</td>\n",
       "      <td>48835.087661</td>\n",
       "      <td>6.369552e+10</td>\n",
       "      <td>9.263931e+11</td>\n",
       "    </tr>\n",
       "    <tr>\n",
       "      <th>2021-02-25 23:59:59</th>\n",
       "      <td>10.759898</td>\n",
       "      <td>47093.853019</td>\n",
       "      <td>51948.966982</td>\n",
       "      <td>47093.853019</td>\n",
       "      <td>49709.082425</td>\n",
       "      <td>5.450657e+10</td>\n",
       "      <td>8.777661e+11</td>\n",
       "    </tr>\n",
       "    <tr>\n",
       "      <th>2021-02-26 23:59:59</th>\n",
       "      <td>10.743756</td>\n",
       "      <td>46339.760083</td>\n",
       "      <td>48370.785260</td>\n",
       "      <td>44454.842114</td>\n",
       "      <td>47180.464054</td>\n",
       "      <td>3.509679e+11</td>\n",
       "      <td>8.637523e+11</td>\n",
       "    </tr>\n",
       "    <tr>\n",
       "      <th>2021-02-27 23:59:59</th>\n",
       "      <td>10.740485</td>\n",
       "      <td>46188.451275</td>\n",
       "      <td>48253.270101</td>\n",
       "      <td>45269.025766</td>\n",
       "      <td>46344.772237</td>\n",
       "      <td>4.591095e+10</td>\n",
       "      <td>8.609781e+11</td>\n",
       "    </tr>\n",
       "  </tbody>\n",
       "</table>\n",
       "<p>2862 rows × 7 columns</p>\n",
       "</div>"
      ],
      "text/plain": [
       "                     Log_Price         Close          High           Low  \\\n",
       "Date                                                                       \n",
       "2013-04-29 23:59:59   4.973556    144.539993    147.488007    134.000000   \n",
       "2013-04-30 23:59:59   4.934474    139.000000    146.929993    134.050003   \n",
       "2013-05-01 23:59:59   4.762088    116.989998    139.889999    107.720001   \n",
       "2013-05-02 23:59:59   4.655958    105.209999    125.599998     92.281898   \n",
       "2013-05-03 23:59:59   4.582413     97.750000    108.127998     79.099998   \n",
       "...                        ...           ...           ...           ...   \n",
       "2021-02-23 23:59:59  10.795986  48824.426869  54204.929756  45290.590268   \n",
       "2021-02-24 23:59:59  10.813868  49705.333316  51290.136695  47213.498162   \n",
       "2021-02-25 23:59:59  10.759898  47093.853019  51948.966982  47093.853019   \n",
       "2021-02-26 23:59:59  10.743756  46339.760083  48370.785260  44454.842114   \n",
       "2021-02-27 23:59:59  10.740485  46188.451275  48253.270101  45269.025766   \n",
       "\n",
       "                             Open        Volume     Marketcap  \n",
       "Date                                                           \n",
       "2013-04-29 23:59:59    134.444000  0.000000e+00  1.603769e+09  \n",
       "2013-04-30 23:59:59    144.000000  0.000000e+00  1.542813e+09  \n",
       "2013-05-01 23:59:59    139.000000  0.000000e+00  1.298955e+09  \n",
       "2013-05-02 23:59:59    116.379997  0.000000e+00  1.168517e+09  \n",
       "2013-05-03 23:59:59    106.250000  0.000000e+00  1.085995e+09  \n",
       "...                           ...           ...           ...  \n",
       "2021-02-23 23:59:59  54204.929756  1.061025e+11  9.099259e+11  \n",
       "2021-02-24 23:59:59  48835.087661  6.369552e+10  9.263931e+11  \n",
       "2021-02-25 23:59:59  49709.082425  5.450657e+10  8.777661e+11  \n",
       "2021-02-26 23:59:59  47180.464054  3.509679e+11  8.637523e+11  \n",
       "2021-02-27 23:59:59  46344.772237  4.591095e+10  8.609781e+11  \n",
       "\n",
       "[2862 rows x 7 columns]"
      ]
     },
     "execution_count": 16,
     "metadata": {},
     "output_type": "execute_result"
    }
   ],
   "source": [
    "cols=['Log_Price', 'Close', 'High', 'Low', 'Open', 'Volume', 'Marketcap'\n",
    "      ,'SNo']     \n",
    "\n",
    "data=df[cols]\n",
    "del data['SNo']\n",
    "data"
   ]
  },
  {
   "cell_type": "markdown",
   "metadata": {},
   "source": [
    "# Linear regression"
   ]
  },
  {
   "cell_type": "code",
   "execution_count": 17,
   "metadata": {},
   "outputs": [],
   "source": [
    "target = data['Log_Price']\n",
    "inputs = data.drop(['Log_Price'],axis=1)\n"
   ]
  },
  {
   "cell_type": "code",
   "execution_count": 18,
   "metadata": {},
   "outputs": [
    {
     "data": {
      "text/plain": [
       "StandardScaler()"
      ]
     },
     "execution_count": 18,
     "metadata": {},
     "output_type": "execute_result"
    }
   ],
   "source": [
    "scaler = StandardScaler()\n",
    "scaler.fit(inputs)"
   ]
  },
  {
   "cell_type": "code",
   "execution_count": 19,
   "metadata": {},
   "outputs": [],
   "source": [
    "inputs_scaled=scaler.transform(inputs)"
   ]
  },
  {
   "cell_type": "code",
   "execution_count": 20,
   "metadata": {},
   "outputs": [],
   "source": [
    "x_train, x_test, y_train, y_test=train_test_split(inputs_scaled,target,test_size=0.2,random_state=365)"
   ]
  },
  {
   "cell_type": "code",
   "execution_count": 21,
   "metadata": {},
   "outputs": [
    {
     "data": {
      "text/plain": [
       "LinearRegression()"
      ]
     },
     "execution_count": 21,
     "metadata": {},
     "output_type": "execute_result"
    }
   ],
   "source": [
    "reg=LinearRegression()\n",
    "reg.fit(x_train,y_train)\n"
   ]
  },
  {
   "cell_type": "code",
   "execution_count": 22,
   "metadata": {},
   "outputs": [],
   "source": [
    "y_hat=reg.predict(x_train)"
   ]
  },
  {
   "cell_type": "code",
   "execution_count": 23,
   "metadata": {},
   "outputs": [
    {
     "data": {
      "image/png": "[encoded data removed]",
      "text/plain": [
       "<Figure size 640x640 with 1 Axes>"
      ]
     },
     "metadata": {
      "needs_background": "light"
     },
     "output_type": "display_data"
    }
   ],
   "source": [
    "plt.figure(figsize=(8, 8), dpi=80)\n",
    "plt.scatter(y_train,y_hat)\n",
    "plt.xlabel('Target y_train')\n",
    "plt.ylabel('predict y_hat')\n",
    "plt.xlim(3,13)\n",
    "plt.ylim(5,15)\n",
    "plt.show()"
   ]
  },
  {
   "cell_type": "code",
   "execution_count": 24,
   "metadata": {},
   "outputs": [
    {
     "data": {
      "text/plain": [
       "<seaborn.axisgrid.FacetGrid at 0x7f989ef1b470>"
      ]
     },
     "execution_count": 24,
     "metadata": {},
     "output_type": "execute_result"
    },
    {
     "data": {
      "image/png": "[encoded data removed]",
      "text/plain": [
       "<Figure size 360x360 with 1 Axes>"
      ]
     },
     "metadata": {
      "needs_background": "light"
     },
     "output_type": "display_data"
    }
   ],
   "source": [
    "\n",
    "sns.displot(data=y_train-y_hat,kde=True)"
   ]
  },
  {
   "cell_type": "markdown",
   "metadata": {},
   "source": [
    "# R^2"
   ]
  },
  {
   "cell_type": "code",
   "execution_count": 25,
   "metadata": {},
   "outputs": [
    {
     "data": {
      "text/plain": [
       "0.8201058861841257"
      ]
     },
     "execution_count": 25,
     "metadata": {},
     "output_type": "execute_result"
    }
   ],
   "source": [
    "reg.score(x_train,y_train)"
   ]
  },
  {
   "cell_type": "code",
   "execution_count": 26,
   "metadata": {},
   "outputs": [
    {
     "data": {
      "text/plain": [
       "array([ 21.34737987,  -8.42753158,   6.5650099 ,   1.61924935,\n",
       "         0.93626197, -20.6000795 ])"
      ]
     },
     "execution_count": 26,
     "metadata": {},
     "output_type": "execute_result"
    }
   ],
   "source": [
    "reg.coef_"
   ]
  },
  {
   "cell_type": "markdown",
   "metadata": {},
   "source": [
    "1. positive weight shows that as a feature increases in value, so do the log_price and respectively.\n",
    "\n",
    "2. negative weight shows that as a feature increases in value, log_price and Price decrease."
   ]
  },
  {
   "cell_type": "code",
   "execution_count": 27,
   "metadata": {},
   "outputs": [
    {
     "data": {
      "text/html": [
       "<div>\n",
       "<style scoped>\n",
       "    .dataframe tbody tr th:only-of-type {\n",
       "        vertical-align: middle;\n",
       "    }\n",
       "\n",
       "    .dataframe tbody tr th {\n",
       "        vertical-align: top;\n",
       "    }\n",
       "\n",
       "    .dataframe thead th {\n",
       "        text-align: right;\n",
       "    }\n",
       "</style>\n",
       "<table border=\"1\" class=\"dataframe\">\n",
       "  <thead>\n",
       "    <tr style=\"text-align: right;\">\n",
       "      <th></th>\n",
       "      <th>Features</th>\n",
       "      <th>Weights</th>\n",
       "    </tr>\n",
       "  </thead>\n",
       "  <tbody>\n",
       "    <tr>\n",
       "      <th>0</th>\n",
       "      <td>Close</td>\n",
       "      <td>21.347380</td>\n",
       "    </tr>\n",
       "    <tr>\n",
       "      <th>1</th>\n",
       "      <td>High</td>\n",
       "      <td>-8.427532</td>\n",
       "    </tr>\n",
       "    <tr>\n",
       "      <th>2</th>\n",
       "      <td>Low</td>\n",
       "      <td>6.565010</td>\n",
       "    </tr>\n",
       "    <tr>\n",
       "      <th>3</th>\n",
       "      <td>Open</td>\n",
       "      <td>1.619249</td>\n",
       "    </tr>\n",
       "    <tr>\n",
       "      <th>4</th>\n",
       "      <td>Volume</td>\n",
       "      <td>0.936262</td>\n",
       "    </tr>\n",
       "    <tr>\n",
       "      <th>5</th>\n",
       "      <td>Marketcap</td>\n",
       "      <td>-20.600079</td>\n",
       "    </tr>\n",
       "  </tbody>\n",
       "</table>\n",
       "</div>"
      ],
      "text/plain": [
       "    Features    Weights\n",
       "0      Close  21.347380\n",
       "1       High  -8.427532\n",
       "2        Low   6.565010\n",
       "3       Open   1.619249\n",
       "4     Volume   0.936262\n",
       "5  Marketcap -20.600079"
      ]
     },
     "execution_count": 27,
     "metadata": {},
     "output_type": "execute_result"
    }
   ],
   "source": [
    "reg_summary=pd.DataFrame(inputs.columns.values,columns=['Features'])\n",
    "reg_summary['Weights']=reg.coef_\n",
    "reg_summary"
   ]
  },
  {
   "cell_type": "code",
   "execution_count": 29,
   "metadata": {},
   "outputs": [
    {
     "name": "stdout",
     "output_type": "stream",
     "text": [
      "2290\n"
     ]
    },
    {
     "data": {
      "text/plain": [
       "array([[  144.53999329],\n",
       "       [  139.        ],\n",
       "       [  116.98999786],\n",
       "       ...,\n",
       "       [47093.85301914],\n",
       "       [46339.76008289],\n",
       "       [46188.45127539]])"
      ]
     },
     "execution_count": 29,
     "metadata": {},
     "output_type": "execute_result"
    }
   ],
   "source": [
    "\n",
    "import math\n",
    "data=df.filter(['Close'])\n",
    "\n",
    "\n",
    "#convert to numpy array\n",
    "dataset=data.values\n",
    "\n",
    "\n",
    "#numbers of row to train \n",
    "training_data_len=math.ceil(len(dataset)*0.8)\n",
    "\n",
    "print(training_data_len)\n",
    "dataset"
   ]
  },
  {
   "cell_type": "code",
   "execution_count": 30,
   "metadata": {},
   "outputs": [
    {
     "data": {
      "text/plain": [
       "array([[0.00132429],\n",
       "       [0.0012279 ],\n",
       "       [0.00084492],\n",
       "       ...,\n",
       "       [0.81823881],\n",
       "       [0.80511765],\n",
       "       [0.80248489]])"
      ]
     },
     "execution_count": 30,
     "metadata": {},
     "output_type": "execute_result"
    }
   ],
   "source": [
    "#scale the data\n",
    "\n",
    "scaler=MinMaxScaler(feature_range=(0,1))\n",
    "scaled_data=scaler.fit_transform(dataset)\n",
    "scaled_data\n"
   ]
  },
  {
   "cell_type": "code",
   "execution_count": null,
   "metadata": {},
   "outputs": [],
   "source": []
  },
  {
   "cell_type": "code",
   "execution_count": 31,
   "metadata": {},
   "outputs": [],
   "source": [
    "def prepare_data(df,forecast_col,forecast_out,test_size):\n",
    "    label = df[forecast_col].shift(-forecast_out) #creating new column called label with the last 5 rows are nan\n",
    "    X = np.array(df[[forecast_col]]) #creating the feature array\n",
    "    X = preprocessing.scale(X) #processing the feature array\n",
    "    X_lately = X[-forecast_out:] #creating the column i want to use later in the predicting method\n",
    "    X = X[:-forecast_out] # X that will contain the training and testing\n",
    "    label.dropna(inplace=True) #dropping na values\n",
    "    y = np.array(label)  # assigning Y\n",
    "    X_train, X_test, Y_train, Y_test = train_test_split(X, y, test_size=test_size, random_state=0) #cross validation\n",
    "\n",
    "    response = [X_train,X_test , Y_train, Y_test , X_lately]\n",
    "    return response"
   ]
  },
  {
   "cell_type": "code",
   "execution_count": 32,
   "metadata": {},
   "outputs": [],
   "source": [
    "df1=prepare_data(df,'Close',10,0.2)\n"
   ]
  },
  {
   "cell_type": "code",
   "execution_count": 33,
   "metadata": {},
   "outputs": [
    {
     "data": {
      "text/plain": [
       "LinearRegression()"
      ]
     },
     "execution_count": 33,
     "metadata": {},
     "output_type": "execute_result"
    }
   ],
   "source": [
    "X_train, X_test, Y_train, Y_test , X_lately =prepare_data(df,'Close',10,0.2); #calling the method were the cross validation and data preperation is in\n",
    "learner = LinearRegression() #initializing linear regression model\n",
    "\n",
    "learner.fit(X_train,Y_train) #training the linear regression model"
   ]
  },
  {
   "cell_type": "code",
   "execution_count": 34,
   "metadata": {},
   "outputs": [
    {
     "name": "stdout",
     "output_type": "stream",
     "text": [
      "{'test_score': 0.9608554523461812, 'forecast_set': array([54664.20213056, 59124.71900012, 59348.77295056, 60875.51184964,\n",
      "       57343.18344947, 51637.72746559, 52571.42124535, 49803.45091544,\n",
      "       49004.16980435, 48843.79398599])}\n"
     ]
    }
   ],
   "source": [
    "\n",
    "score=learner.score(X_test,Y_test)#testing the linear regression model\n",
    "forecast= learner.predict(X_lately) #set that will contain the forecasted data\n",
    "response={}#creting json object\n",
    "response['test_score']=score\n",
    "response['forecast_set']=forecast\n",
    "\n",
    "print(response)"
   ]
  }
 ],
 "metadata": {
  "kernelspec": {
   "display_name": "Python 3",
   "language": "python",
   "name": "python3"
  },
  "language_info": {
   "codemirror_mode": {
    "name": "ipython",
    "version": 3
   },
   "file_extension": ".py",
   "mimetype": "text/x-python",
   "name": "python",
   "nbconvert_exporter": "python",
   "pygments_lexer": "ipython3",
   "version": "3.6.13"
  }
 },
 "nbformat": 4,
 "nbformat_minor": 4
}
